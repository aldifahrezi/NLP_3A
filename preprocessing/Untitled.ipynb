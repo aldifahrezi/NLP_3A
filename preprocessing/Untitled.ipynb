{
 "cells": [
  {
   "cell_type": "code",
   "execution_count": 1,
   "metadata": {},
   "outputs": [],
   "source": [
    "import json\n",
    "import pickle\n",
    "import re\n",
    "from gensim.models import Word2Vec"
   ]
  },
  {
   "cell_type": "code",
   "execution_count": 2,
   "metadata": {},
   "outputs": [],
   "source": [
    "import xml.etree.ElementTree\n",
    "import pandas as pd\n",
    "import numpy as np\n",
    "import seaborn as sns\n",
    "import matplotlib.pyplot as plt\n",
    "\n",
    "def parse_aspect_node(aspect_node):\n",
    "    category = aspect_node.get('category')\n",
    "    polarity = aspect_node.get('polarity')\n",
    "    \n",
    "    typo_polarity_map = {\n",
    "        'POSITIVE': 'POSITIVE',\n",
    "        'NEGATIVE': 'NEGATIVE',\n",
    "        'NEATIVE': 'NEGATIVE',\n",
    "        'NEGTIVE': 'NEGATIVE',\n",
    "        ' NEGATIVE ': 'NEGATIVE',\n",
    "        'NEGATIVE ': 'NEGATIVE',\n",
    "        'POSITIVETIVE': 'POSITIVE',\n",
    "        'POSITUVE': 'POSITIVE'\n",
    "    }\n",
    "    \n",
    "    polarity = typo_polarity_map[polarity]\n",
    "    \n",
    "    return {category: polarity}    \n",
    "\n",
    "def parse_aspects_node(aspects_node):\n",
    "    default_aspects = {\n",
    "        'FOOD': 'NEUTRAL',\n",
    "        'AMBIENCE': 'NEUTRAL',\n",
    "        'SERVICE': 'NEUTRAL',\n",
    "        'PRICE': 'NEUTRAL'\n",
    "    }\n",
    "    \n",
    "    for aspect in aspects_node.getchildren():\n",
    "        default_aspects.update(parse_aspect_node(aspect))\n",
    "    \n",
    "    return default_aspects\n",
    "\n",
    "def parse_review_node(review_node):\n",
    "    text = review_node.find('text').text\n",
    "    rid = review_node.get('rid')\n",
    "    aspects = review_node.findall('aspects')\n",
    "    \n",
    "    default_dict = {\n",
    "        'rid': int(rid),\n",
    "        'text': text\n",
    "    }\n",
    "    \n",
    "    res = []\n",
    "    for aspect in aspects:\n",
    "        cur_dict = default_dict.copy()\n",
    "        cur_dict.update(parse_aspects_node(aspect))\n",
    "        res.append(cur_dict)\n",
    "        \n",
    "    return res\n",
    "\n",
    "def parse_review_test_node(review_node):\n",
    "    text = review_node.find('text').text\n",
    "    rid = review_node.get('rid')\n",
    "    \n",
    "    default_dict = {\n",
    "        'rid': int(rid),\n",
    "        'text': text\n",
    "    }\n",
    "    \n",
    "    res = [default_dict]\n",
    "        \n",
    "    return res\n",
    "\n",
    "def filter_same_train_aspects(reviews):\n",
    "    res = []\n",
    "    for v in reviews:\n",
    "        if len(v['aspects']) == 1 or v['aspects'][0] == v['aspects'][1]:\n",
    "            res.append(v)\n",
    "    \n",
    "    return res\n",
    "\n",
    "def filter_different_train_aspects(reviews):\n",
    "    res = []\n",
    "    for v in reviews:\n",
    "        if len(v['aspects']) == 2 and not(v['aspects'][0] == v['aspects'][1]):\n",
    "            res.append(v)\n",
    "            \n",
    "    return res\n",
    "\n",
    "def parse_dataset(filename):\n",
    "    root_node = xml.etree.ElementTree.parse(filename).getroot()\n",
    "    review_nodes = root_node.findall('review')\n",
    "    reviews = [item for sublist in review_nodes for item in parse_review_node(sublist)]\n",
    "    \n",
    "    return pd.DataFrame.from_dict(reviews)\n",
    "\n",
    "def parse_testset(filename):\n",
    "    root_node = xml.etree.ElementTree.parse(filename).getroot()\n",
    "    review_nodes = root_node.findall('review')\n",
    "    reviews = [item for sublist in review_nodes for item in parse_review_test_node(sublist)]\n",
    "    \n",
    "    return pd.DataFrame.from_dict(reviews)"
   ]
  },
  {
   "cell_type": "code",
   "execution_count": 3,
   "metadata": {},
   "outputs": [],
   "source": [
    "training_parsed = parse_dataset('../training_set.xml')\n",
    "validation_parsed = parse_dataset('../validation_set.xml')\n",
    "test_parsed = parse_testset('../test_set.xml')"
   ]
  },
  {
   "cell_type": "code",
   "execution_count": 4,
   "metadata": {},
   "outputs": [],
   "source": [
    "def tokenize_zomato_reviews():\n",
    "    with open('../scrapper/reviews.json', 'r') as fp:\n",
    "        reviews = json.load(fp)['reviews']\n",
    "    \n",
    "    sentences_tokens = []\n",
    "\n",
    "    for review in reviews:\n",
    "        try :\n",
    "            tokens =  re.sub(r\"[^a-z0-9]+\", \" \", review.lower()).split()\n",
    "            sentences_tokens.append(tokens)\n",
    "        except:\n",
    "            continue\n",
    "            \n",
    "    return sentences_tokens\n",
    "\n",
    "def tokenize_dataset(res):\n",
    "    sentences_tokens=[]\n",
    "    \n",
    "    for id in np.unique(res.rid.values):\n",
    "        df = res[res.rid == id]\n",
    "        text = df.iloc[0]['text']\n",
    "        tokens =  re.sub(r\"[^a-z0-9]+\", \" \", text.lower()).split()\n",
    "        sentences_tokens.append(tokens)\n",
    "        \n",
    "    return sentences_tokens\n",
    "        \n"
   ]
  },
  {
   "cell_type": "code",
   "execution_count": 6,
   "metadata": {},
   "outputs": [],
   "source": [
    "scrap_tokenize = tokenize_zomato_reviews()\n",
    "test_tokenize = tokenize_dataset(training_parsed)\n",
    "validation_tokenize = tokenize_dataset(validation_parsed)\n",
    "test_tokenize = tokenize_dataset(test_parsed)\n",
    "\n",
    "all_tokenize = []\n",
    "all_tokenize.extend(scrap_tokenize)\n",
    "all_tokenize.extend(test_tokenize)\n",
    "all_tokenize.extend(validation_tokenize)\n",
    "all_tokenize.extend(test_tokenize)\n",
    "\n",
    "model = Word2Vec(\n",
    "    sentences=all_tokenize,\n",
    "    size=20,\n",
    "    window=5,\n",
    "    min_count=1,\n",
    "    workers=4,\n",
    ")\n",
    "\n",
    "with open('wordmodel', 'wb') as fp:\n",
    "    pickle.dump(model, fp, pickle.HIGHEST_PROTOCOL)\n"
   ]
  },
  {
   "cell_type": "code",
   "execution_count": 14,
   "metadata": {},
   "outputs": [
    {
     "name": "stderr",
     "output_type": "stream",
     "text": [
      "/home/anabmaulana/anaconda3/lib/python3.6/site-packages/ipykernel_launcher.py:4: DeprecationWarning: Call to deprecated `similar_by_word` (Method will be removed in 4.0.0, use self.wv.similar_by_word() instead).\n",
      "  after removing the cwd from sys.path.\n"
     ]
    },
    {
     "data": {
      "text/plain": [
       "[('sedikit', 0.9811491966247559),\n",
       " ('tipe', 0.9796196222305298),\n",
       " ('istimewa', 0.9747599363327026),\n",
       " ('banyak', 0.9714991450309753),\n",
       " ('besar', 0.9710503816604614),\n",
       " ('variasi', 0.9706156849861145),\n",
       " ('ekspektasi', 0.9693906307220459),\n",
       " ('renyah', 0.9681794047355652),\n",
       " ('tmen2', 0.9665861129760742),\n",
       " ('tetapi', 0.9656574726104736)]"
      ]
     },
     "execution_count": 14,
     "metadata": {},
     "output_type": "execute_result"
    }
   ],
   "source": [
    "with open('wordmodel', 'rb') as fp:\n",
    "    model = pickle.load(fp)\n",
    "    \n",
    "model.similar_by_word('tidak')"
   ]
  },
  {
   "cell_type": "code",
   "execution_count": 57,
   "metadata": {},
   "outputs": [
    {
     "name": "stderr",
     "output_type": "stream",
     "text": [
      "Using TensorFlow backend.\n"
     ]
    }
   ],
   "source": [
    "# This Python 3 environment comes with many helpful analytics libraries installed\n",
    "# It is defined by the kaggle/python docker image: https://github.com/kaggle/docker-python\n",
    "# For example, here's several helpful packages to load in \n",
    "\n",
    "import numpy as np # linear algebra\n",
    "import pandas as pd # data processing, CSV file I/O (e.g. pd.read_csv)\n",
    "\n",
    "from sklearn.feature_extraction.text import CountVectorizer\n",
    "from keras.preprocessing.text import Tokenizer\n",
    "from keras.preprocessing.sequence import pad_sequences\n",
    "from keras.models import Sequential\n",
    "from keras.layers import Dense, Embedding, LSTM, SpatialDropout1D\n",
    "from sklearn.model_selection import train_test_split\n",
    "from keras.utils.np_utils import to_categorical\n",
    "import re\n",
    "\n",
    "# Input data files are available in the \"../input/\" directory.\n",
    "# For example, running this (by clicking run or pressing Shift+Enter) will list the files in the input directory"
   ]
  },
  {
   "cell_type": "code",
   "execution_count": 59,
   "metadata": {},
   "outputs": [],
   "source": [
    "data = pd.read_csv('../Sentiment.csv')\n",
    "# Keeping only the neccessary columns\n",
    "data = data[['text','sentiment']]"
   ]
  },
  {
   "cell_type": "code",
   "execution_count": null,
   "metadata": {},
   "outputs": [],
   "source": [
    "data = data[data.sentiment != \"Neutral\"]\n",
    "data['text'] = data['text'].apply(lambda x: x.lower())\n",
    "data['text'] = data['text'].apply((lambda x: re.sub('[^a-zA-z0-9\\s]','',x)))\n",
    "\n",
    "print(data[ data['sentiment'] == 'Positive'].size)\n",
    "print(data[ data['sentiment'] == 'Negative'].size)\n",
    "\n",
    "for idx,row in data.iterrows():\n",
    "    row[0] = row[0].replace('rt',' ')\n",
    "    \n",
    "max_fatures = 2000\n",
    "tokenizer = Tokenizer(num_words=max_fatures, split=' ')\n",
    "tokenizer.fit_on_texts(data['text'].values)\n",
    "X = tokenizer.texts_to_sequences(data['text'].values)\n",
    "X = pad_sequences(X)"
   ]
  },
  {
   "cell_type": "code",
   "execution_count": null,
   "metadata": {},
   "outputs": [],
   "source": [
    "embed_dim = 128\n",
    "lstm_out = 196\n",
    "\n",
    "model = Sequential()\n",
    "model.add(Embedding(max_fatures, embed_dim,input_length = X.shape[1]))\n",
    "model.add(SpatialDropout1D(0.4))\n",
    "model.add(LSTM(lstm_out, dropout=0.2, recurrent_dropout=0.2))\n",
    "model.add(Dense(2,activation='softmax'))\n",
    "model.compile(loss = 'categorical_crossentropy', optimizer='adam',metrics = ['accuracy'])\n",
    "print(model.summary())"
   ]
  },
  {
   "cell_type": "code",
   "execution_count": null,
   "metadata": {},
   "outputs": [],
   "source": [
    "Y = pd.get_dummies(data['sentiment']).values\n",
    "X_train, X_test, Y_train, Y_test = train_test_split(X,Y, test_size = 0.33, random_state = 42)\n",
    "print(X_train.shape,Y_train.shape)\n",
    "print(X_test.shape,Y_test.shape)"
   ]
  },
  {
   "cell_type": "code",
   "execution_count": null,
   "metadata": {},
   "outputs": [],
   "source": [
    "batch_size = 32\n",
    "model.fit(X_train, Y_train, epochs = 7, batch_size=batch_size, verbose = 2)"
   ]
  },
  {
   "cell_type": "code",
   "execution_count": null,
   "metadata": {},
   "outputs": [],
   "source": [
    "validation_size = 1500\n",
    "\n",
    "X_validate = X_test[-validation_size:]\n",
    "Y_validate = Y_test[-validation_size:]\n",
    "X_test = X_test[:-validation_size]\n",
    "Y_test = Y_test[:-validation_size]\n",
    "score,acc = model.evaluate(X_test, Y_test, verbose = 2, batch_size = batch_size)\n",
    "print(\"score: %.2f\" % (score))\n",
    "print(\"acc: %.2f\" % (acc))"
   ]
  },
  {
   "cell_type": "code",
   "execution_count": null,
   "metadata": {},
   "outputs": [],
   "source": []
  }
 ],
 "metadata": {
  "kernelspec": {
   "display_name": "Python 3",
   "language": "python",
   "name": "python3"
  },
  "language_info": {
   "codemirror_mode": {
    "name": "ipython",
    "version": 3
   },
   "file_extension": ".py",
   "mimetype": "text/x-python",
   "name": "python",
   "nbconvert_exporter": "python",
   "pygments_lexer": "ipython3",
   "version": "3.6.4"
  }
 },
 "nbformat": 4,
 "nbformat_minor": 2
}
